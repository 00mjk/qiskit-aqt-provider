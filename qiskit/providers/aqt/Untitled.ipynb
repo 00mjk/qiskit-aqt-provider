{
 "cells": [
  {
   "cell_type": "code",
   "execution_count": 1,
   "metadata": {
    "ExecuteTime": {
     "end_time": "2019-09-20T15:07:29.498665Z",
     "start_time": "2019-09-20T15:07:27.286846Z"
    }
   },
   "outputs": [],
   "source": [
    "from aqt_account import AQTAccount"
   ]
  },
  {
   "cell_type": "code",
   "execution_count": 2,
   "metadata": {
    "ExecuteTime": {
     "end_time": "2019-09-20T15:07:29.503024Z",
     "start_time": "2019-09-20T15:07:29.500308Z"
    }
   },
   "outputs": [],
   "source": [
    "AQT = AQTAccount()"
   ]
  },
  {
   "cell_type": "code",
   "execution_count": 3,
   "metadata": {
    "ExecuteTime": {
     "end_time": "2019-09-20T15:07:29.513139Z",
     "start_time": "2019-09-20T15:07:29.505051Z"
    }
   },
   "outputs": [
    {
     "data": {
      "text/plain": [
       "<AQTProvider(name=aqt_provider)>"
      ]
     },
     "execution_count": 3,
     "metadata": {},
     "output_type": "execute_result"
    }
   ],
   "source": [
    "AQT.enable_account('1234')"
   ]
  },
  {
   "cell_type": "code",
   "execution_count": 4,
   "metadata": {
    "ExecuteTime": {
     "end_time": "2019-09-20T15:07:29.518988Z",
     "start_time": "2019-09-20T15:07:29.515248Z"
    }
   },
   "outputs": [
    {
     "data": {
      "text/plain": [
       "[<AQTProvider(name=aqt_provider)>]"
      ]
     },
     "execution_count": 4,
     "metadata": {},
     "output_type": "execute_result"
    }
   ],
   "source": [
    "AQT.providers()"
   ]
  },
  {
   "cell_type": "code",
   "execution_count": 6,
   "metadata": {
    "ExecuteTime": {
     "end_time": "2019-09-20T15:07:33.930431Z",
     "start_time": "2019-09-20T15:07:33.927237Z"
    }
   },
   "outputs": [],
   "source": [
    "pro = AQT.get_provider('aqt_provider')"
   ]
  },
  {
   "cell_type": "code",
   "execution_count": 12,
   "metadata": {
    "ExecuteTime": {
     "end_time": "2019-09-20T15:09:33.115917Z",
     "start_time": "2019-09-20T15:09:33.111653Z"
    }
   },
   "outputs": [
    {
     "data": {
      "text/plain": [
       "BackendConfiguration(backend_name='aqt_innsbruck', backend_version='0.0.1', basis_gates=['rx', 'ry', 'rxx'], conditional=False, coupling_map=[[0, 1], [0, 2], [0, 3], [0, 4], [1, 0], [1, 2], [1, 3], [1, 4], [2, 0], [2, 1], [2, 3], [2, 4], [3, 0], [3, 1], [3, 2], [3, 4], [4, 0], [4, 1], [4, 2], [4, 3]], description='aqt trapped ion device', gates=[GateConfig(name='TODO', parameters=[], qasm_def='TODO')], local=False, max_shots=250, memory=False, n_qubits=5, open_pulse=False, simulator=False, url='https://www.aqt.eu/')"
      ]
     },
     "execution_count": 12,
     "metadata": {},
     "output_type": "execute_result"
    }
   ],
   "source": [
    "pro.backends()[0].configuration()"
   ]
  },
  {
   "cell_type": "code",
   "execution_count": 9,
   "metadata": {
    "ExecuteTime": {
     "end_time": "2019-09-20T15:08:35.422377Z",
     "start_time": "2019-09-20T15:08:35.419025Z"
    }
   },
   "outputs": [],
   "source": [
    "from qiskit import *"
   ]
  },
  {
   "cell_type": "code",
   "execution_count": 10,
   "metadata": {
    "ExecuteTime": {
     "end_time": "2019-09-20T15:08:45.019604Z",
     "start_time": "2019-09-20T15:08:42.869826Z"
    }
   },
   "outputs": [
    {
     "data": {
      "text/plain": [
       "<AccountProvider for IBMQ(hub='ibm-q', group='open', project='main')>"
      ]
     },
     "execution_count": 10,
     "metadata": {},
     "output_type": "execute_result"
    }
   ],
   "source": [
    "IBMQ.load_account()"
   ]
  },
  {
   "cell_type": "code",
   "execution_count": null,
   "metadata": {},
   "outputs": [],
   "source": []
  }
 ],
 "metadata": {
  "kernelspec": {
   "display_name": "Python 3",
   "language": "python",
   "name": "python3"
  },
  "language_info": {
   "codemirror_mode": {
    "name": "ipython",
    "version": 3
   },
   "file_extension": ".py",
   "mimetype": "text/x-python",
   "name": "python",
   "nbconvert_exporter": "python",
   "pygments_lexer": "ipython3",
   "version": "3.7.4"
  },
  "varInspector": {
   "cols": {
    "lenName": 16,
    "lenType": 16,
    "lenVar": 40
   },
   "kernels_config": {
    "python": {
     "delete_cmd_postfix": "",
     "delete_cmd_prefix": "del ",
     "library": "var_list.py",
     "varRefreshCmd": "print(var_dic_list())"
    },
    "r": {
     "delete_cmd_postfix": ") ",
     "delete_cmd_prefix": "rm(",
     "library": "var_list.r",
     "varRefreshCmd": "cat(var_dic_list()) "
    }
   },
   "types_to_exclude": [
    "module",
    "function",
    "builtin_function_or_method",
    "instance",
    "_Feature"
   ],
   "window_display": false
  }
 },
 "nbformat": 4,
 "nbformat_minor": 2
}
